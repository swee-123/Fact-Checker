{
 "cells": [
  {
   "cell_type": "markdown",
   "metadata": {},
   "source": [
    "# Fact Checker Demo Notebook\n",
    "This notebook demonstrates how to use the Fact Checker modules without the Streamlit UI."
   ]
  },
  {
   "cell_type": "code",
   "execution_count": 1,
   "metadata": {},
   "outputs": [],
   "source": [
    "from src.fact_checker import FactChecker\n",
    "from src.search_tools import web_search\n",
    "import pprint\n",
    "\n",
    "# Initialize Fact Checker\n",
    "fc = FactChecker()\n",
    "\n",
    "# Example claim\n",
    "claim = \"The Great Wall of China is visible from space with the naked eye.\"\n",
    "\n",
    "print(f\"Claim: {claim}\\n\")\n",
    "\n",
    "# Step 1: Initial Response\n",
    "initial_answer = fc.initial_response(claim)\n",
    "print(\"Initial Answer:\")\n",
    "print(initial_answer)\n",
    "\n",
    "# Step 2: Extract Assumptions\n",
    "assumptions = fc.extract_assumptions(initial_answer)\n",
    "print(\"\\nExtracted Assumptions:\")\n",
    "pprint.pprint(assumptions)\n",
    "\n",
    "# Step 3: Verify Assumptions\n",
    "verification_results = []\n",
    "for assumption in assumptions:\n",
    "    evidence = web_search(assumption)\n",
    "    verification = fc.verify_assumption(assumption, evidence)\n",
    "    verification_results.append({\n",
    "        \"assumption\": assumption,\n",
    "        \"status\": verification\n",
    "    })\n",
    "\n",
    "print(\"\\nVerification Results:\")\n",
    "pprint.pprint(verification_results)\n",
    "\n",
    "# Step 4: Final Answer\n",
    "final_answer = fc.synthesize_answer(initial_answer, verification_results)\n",
    "print(\"\\nFinal Answer:\")\n",
    "print(final_answer)"
   ]
  }
 ],
 "metadata": {
  "kernelspec": {
   "display_name": "Python 3",
   "language": "python",
   "name": "python3"
  },
  "language_info": {
   "name": "python",
   "version": "3.11.5"
  }
 },
 "nbformat": 4,
 "nbformat_minor": 5
}
